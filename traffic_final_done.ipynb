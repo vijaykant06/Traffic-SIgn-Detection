{
 "cells": [
  {
   "cell_type": "markdown",
   "id": "80684ebf",
   "metadata": {},
   "source": [
    "<div class=\"alert alert-block alert-info\">\n",
    "<img src=\"https://secureservercdn.net/45.40.150.47/8jj.6f8.myftpupload.com/wp-content/uploads/2018/08/Pi-5-white-100x100-2.png\" align=\"left\" width=\"80\" height=\"100\">\n",
    "<center>\n",
    "    <h1><b><u>366pi Technologies</u></b></h1>\n",
    "    <h2><br>Data Science Internship<br></h2>\n",
    "    </center>    \n",
    "    <div class=\"alert alert-block alert-success\">\n",
    "    <h2><b>Project:</b> Traffic Sign Detection</h2>\n",
    "    <b>Dataset:</b><a href=\"https://www.kaggle.com/meowmeowmeowmeowmeow/gtsrb-german-traffic-sign\">Click to view Iris data.</a>\n",
    "        <h2>Author:Vijay Kant Kumar<br></h2>\n",
    "\n",
    "\n",
    "</div>\n",
    "</div>\n",
    "    <div class=\"alert alert-block alert-warning\">\n",
    "    <h2>Code Hosted :</h2>\n",
    "    <b>LinkedIn:</b><a href=\"https://www.linkedin.com/in/vijay-kant-kumar-03293b1a4/\">View Profile</a>\n",
    "    <br>\n",
    "    <b>Github:</b><a href=\"https://github.com/vijaykant06/Traffic-SIgn-Detection\">View Work </a>"
   ]
  },
  {
   "cell_type": "markdown",
   "id": "4588e3b5",
   "metadata": {},
   "source": [
    "### This model is created to detect the traffic sign using CNN(convolution neura network) of deep learning. In the model is trained with 42 different traffic signs and then model is saved for further prediction. Here there Opencv library is used to open camera for detection in real time. Deployment is done using the flaskapp of python where photo of the traffic sign uploaded and it detect the signs features to predict after the the result of the images shown in the web browser."
   ]
  },
  {
   "cell_type": "markdown",
   "id": "8a4e14c8-c2b9-456c-b133-043d252faf37",
   "metadata": {},
   "source": [
    "#### Author:- Vijay Kant Kumar"
   ]
  },
  {
   "cell_type": "code",
   "execution_count": 5,
   "id": "c2f1431f-a2fc-415b-8b0f-71c9f600bef0",
   "metadata": {},
   "outputs": [],
   "source": [
    "import numpy as np\n",
    "import pandas as pd\n",
    "import matplotlib.pyplot as plt\n",
    "import cv2\n",
    "import tensorflow as tf\n",
    "from PIL import Image\n",
    "import os\n",
    "from sklearn.model_selection import train_test_split\n",
    "from keras.utils.np_utils import to_categorical\n",
    "from keras.models import Sequential, load_model\n",
    "from keras.preprocessing.image import ImageDataGenerator\n",
    "from tensorflow.keras.callbacks import TensorBoard\n",
    "import pickle\n",
    "from keras.layers import Conv2D, MaxPool2D, Dense, Flatten, Dropout, BatchNormalization"
   ]
  },
  {
   "cell_type": "code",
   "execution_count": 2,
   "id": "c0f30645-e7de-4d4f-921c-ce564ad7392d",
   "metadata": {},
   "outputs": [
    {
     "name": "stdout",
     "output_type": "stream",
     "text": [
      "Current Path:  /home/vijay/Fedora/Documents/366pi_project/archive\n",
      "Number of classes : 43\n"
     ]
    }
   ],
   "source": [
    "#import directory path\n",
    "dir_path = os.chdir(\"/home/vijay/Fedora/Documents/366pi_project/archive/\")\n",
    "print('Current Path: ',os.getcwd())\n",
    "#Path of train dataset\n",
    "train_path = \"train\"\n",
    "#list of folders\n",
    "list_folder = os.listdir(train_path)\n",
    "#Count the number of classess\n",
    "num_of_class = len(list_folder)\n",
    "print(\"Number of classes :\", num_of_class)"
   ]
  },
  {
   "cell_type": "code",
   "execution_count": 3,
   "id": "84a0745d-5c9b-4a30-a1df-be0d499fa740",
   "metadata": {},
   "outputs": [],
   "source": [
    "data=[]\n",
    "labels = []\n",
    "classes = num_of_class\n",
    "cur_path = os.getcwd()\n",
    "for i in range(classes):\n",
    "    path = os.path.join(cur_path,'train',str(i))\n",
    "    images = os.listdir(path)\n",
    "    for a in images:\n",
    "        try:\n",
    "            image = cv2.imread(path + '/' + a)\n",
    "            #print(path+'/'+ a)\n",
    "            image = cv2.resize(image,(32,32))\n",
    "            data.append(image)\n",
    "            labels.append(i)\n",
    "        except Exception as e:\n",
    "            print(e)"
   ]
  },
  {
   "cell_type": "code",
   "execution_count": 4,
   "id": "a30fcc9d-12a5-4d63-94a5-83c445d227ab",
   "metadata": {},
   "outputs": [
    {
     "name": "stdout",
     "output_type": "stream",
     "text": [
      "Label shape is :  (39209,)\n",
      "Data shape is : (39209, 32, 32, 3)\n"
     ]
    }
   ],
   "source": [
    "labels = np.array(labels)\n",
    "data = np.array(data)\n",
    "#verify the shape\n",
    "print(\"Label shape is : \", labels.shape)\n",
    "print(\"Data shape is :\", data.shape)"
   ]
  },
  {
   "cell_type": "code",
   "execution_count": 5,
   "id": "5ee19f8a-e97f-4a75-9074-631d2c6dadd8",
   "metadata": {},
   "outputs": [
    {
     "name": "stdout",
     "output_type": "stream",
     "text": [
      "Saving done\n"
     ]
    }
   ],
   "source": [
    "#save label in sample for future reference\n",
    "if not os.path.exists('sample'):\n",
    "    os.mkdir('/home/vijay/Fedora/Documents/366pi_project/archive/sample')\n",
    "np.save('./sample/data',data)\n",
    "np.save('./sample/target',labels)\n",
    "print('Saving done')"
   ]
  },
  {
   "cell_type": "code",
   "execution_count": 41,
   "id": "6c78f092-00d1-4e3a-a9e2-25cd3d1f7ab5",
   "metadata": {},
   "outputs": [
    {
     "name": "stdout",
     "output_type": "stream",
     "text": [
      "Verifying the data shapes..........\n",
      "train data: (31367, 32, 32, 3)\n",
      "train label: (31367,)\n",
      "test data : (7842, 32, 32, 3)\n",
      "test label: (7842,)\n"
     ]
    }
   ],
   "source": [
    "X_train, X_test, y_train, y_test = train_test_split(data, labels,test_size=0.2, random_state=0)\n",
    "print('Verifying the data shapes..........')\n",
    "print(\"train data:\",X_train.shape)\n",
    "print(\"train label:\",y_train.shape)\n",
    "print(\"test data :\",X_test.shape)\n",
    "print(\"test label:\", y_test.shape)"
   ]
  },
  {
   "cell_type": "code",
   "execution_count": 42,
   "id": "3b6547f5-e200-4903-855f-b5b474bb3cad",
   "metadata": {},
   "outputs": [
    {
     "name": "stdout",
     "output_type": "stream",
     "text": [
      "Verifying the data shapes..........\n",
      "train data: X_train------- (31367, 32, 32, 3)\n",
      "train label: y_train------ (31367,)\n",
      "test data : X_validation-- (7842, 32, 32, 3)\n",
      "test label: y_validation-- (7842,)\n"
     ]
    }
   ],
   "source": [
    "X_train, X_validation, y_train, y_validation = train_test_split(data, labels, test_size=0.2, random_state=0)\n",
    "print('Verifying the data shapes..........')\n",
    "print(\"train data: X_train-------\",X_train.shape)\n",
    "print(\"train label: y_train------\",y_train.shape)\n",
    "print(\"test data : X_validation--\",X_validation.shape)\n",
    "print(\"test label: y_validation--\", y_validation.shape)"
   ]
  },
  {
   "cell_type": "markdown",
   "id": "60f1b7be-3815-43ad-a8fc-027c594144a8",
   "metadata": {},
   "source": [
    "\n"
   ]
  },
  {
   "cell_type": "code",
   "execution_count": 43,
   "id": "e579d61c-1012-4fc7-a5dd-93ead86c1c64",
   "metadata": {},
   "outputs": [
    {
     "name": "stdout",
     "output_type": "stream",
     "text": [
      "[169, 1781, 1799, 1134, 1578, 1485, 332, 1143, 1147, 1189, 1619, 1040, 1691, 1730, 614, 513, 329, 884, 982, 176, 286, 261, 313, 411, 203, 1181, 467, 193, 415, 212, 349, 623, 201, 576, 348, 983, 317, 161, 1627, 235, 289, 186, 195]\n"
     ]
    },
    {
     "data": {
      "image/png": "[encoded data removed]",
      "text/plain": [
       "<Figure size 720x360 with 1 Axes>"
      ]
     },
     "metadata": {
      "needs_background": "light"
     },
     "output_type": "display_data"
    }
   ],
   "source": [
    "num_of_samples = []\n",
    "for x in range(0, num_of_class):\n",
    "    #print(len(np.where(y_train==x)[0]))\n",
    "    num_of_samples.append(len(np.where(y_train==x)[0]))\n",
    "print(num_of_samples)\n",
    "plt.figure(figsize=(10,5))\n",
    "plt.bar(range(0, num_of_class), num_of_samples)\n",
    "plt.title(\"Number of Images for each class\")\n",
    "plt.xlabel(\"Class ID\")\n",
    "plt.ylabel(\"Number of images\")\n",
    "plt.show()\n"
   ]
  },
  {
   "cell_type": "code",
   "execution_count": 44,
   "id": "8314a472-7872-4cfe-baa3-134f04c65c4c",
   "metadata": {},
   "outputs": [],
   "source": [
    "def preprocessing(img):\n",
    "    img = cv2.cvtColor(img,cv2.COLOR_BGR2GRAY)\n",
    "    img =cv2.equalizeHist(img)\n",
    "    img = img/255\n",
    "    return img\n",
    "#img = preprocessing(X_train[30])\n",
    "#img = cv2.resize(img, (300,300))\n",
    "#cv2.imshow(\"Preprocessed\", img)\n",
    "#cv2.waitKey(0)\n",
    "X_train= np.array(list(map(preprocessing,X_train)))\n",
    "X_test = np.array(list(map(preprocessing,X_test)))\n",
    "X_validation = np.array(list(map(preprocessing,X_validation)))"
   ]
  },
  {
   "cell_type": "code",
   "execution_count": 45,
   "id": "dd037131-3e7f-46d7-b4c0-9387d3d087e7",
   "metadata": {},
   "outputs": [
    {
     "name": "stdout",
     "output_type": "stream",
     "text": [
      "************Complete shape details**************\n",
      "X_train-------------------- (31367, 32, 32)\n",
      "y_train-------------------- (31367,)\n",
      "X_validation--------------- (7842, 32, 32)\n",
      "y_validation--------------- (7842,)\n"
     ]
    }
   ],
   "source": [
    "print(\"************Complete shape details**************\")\n",
    "print(\"X_train--------------------\", X_train.shape)\n",
    "print(\"y_train--------------------\", y_train.shape)\n",
    "print(\"X_validation---------------\", X_validation.shape)\n",
    "print(\"y_validation---------------\", y_validation.shape)"
   ]
  },
  {
   "cell_type": "code",
   "execution_count": 46,
   "id": "9dc44f59-6625-450c-8f31-544a39c63a17",
   "metadata": {},
   "outputs": [
    {
     "name": "stdout",
     "output_type": "stream",
     "text": [
      "------------Reshaping done----------------\n",
      "X_train shape after reshaping-------------- (31367, 32, 32, 1)\n",
      "X_validation shape after reshaping--------- (7842, 32, 32, 1)\n",
      "X_test shape after reshaping--------------- (7842, 32, 32, 1)\n"
     ]
    }
   ],
   "source": [
    "#Reshaping training data and testing data\n",
    "X_train_reshape = X_train.reshape(X_train.shape[0],X_train.shape[1],X_train.shape[2],1)\n",
    "X_validation_reshape = X_validation.reshape(X_validation.shape[0],X_validation.shape[1],X_validation.shape[2],1)\n",
    "X_test_reshape = X_test.reshape(X_test.shape[0],X_test.shape[1],X_test.shape[2],1)\n",
    "print(\"------------Reshaping done----------------\")\n",
    "print(\"X_train shape after reshaping--------------\", X_train_reshape.shape)\n",
    "print(\"X_validation shape after reshaping---------\", X_validation_reshape.shape)\n",
    "print(\"X_test shape after reshaping---------------\", X_test_reshape.shape)"
   ]
  },
  {
   "cell_type": "code",
   "execution_count": 47,
   "id": "26f9ebd4-16aa-4b33-9356-71fa2a4035c4",
   "metadata": {},
   "outputs": [
    {
     "name": "stdout",
     "output_type": "stream",
     "text": [
      "************Before Complete shape details**************\n",
      "X_train-------------------- (31367, 32, 32)\n",
      "y_train-------------------- (31367,)\n",
      "X_validation--------------- (7842, 32, 32)\n",
      "y_validation--------------- (7842,)\n",
      "************After reshape*******************************\n",
      "X_train_reshape------------ (31367, 32, 32, 1)\n",
      "X_validation_reshape------- (7842, 32, 32, 1)\n",
      "X_test_reshape------------- (7842, 32, 32, 1)\n",
      "y_test--------------------- (7842,)\n",
      "********************************************************\n"
     ]
    }
   ],
   "source": [
    "#Complete shape view for understanding\n",
    "print(\"************Before Complete shape details**************\")\n",
    "print(\"X_train--------------------\", X_train.shape)\n",
    "print(\"y_train--------------------\", y_train.shape)\n",
    "print(\"X_validation---------------\", X_validation.shape)\n",
    "print(\"y_validation---------------\", y_validation.shape)\n",
    "print('************After reshape*******************************')\n",
    "print(\"X_train_reshape------------\", X_train_reshape.shape)\n",
    "print(\"X_validation_reshape-------\", X_validation_reshape.shape)\n",
    "print(\"X_test_reshape-------------\", X_test_reshape.shape)\n",
    "print(\"y_test---------------------\", y_test.shape)\n",
    "print('********************************************************')"
   ]
  },
  {
   "cell_type": "code",
   "execution_count": 48,
   "id": "15c47d07-4b41-4c94-8a81-deb5d3f90f3c",
   "metadata": {},
   "outputs": [
    {
     "data": {
      "image/png": "[encoded data removed]",
      "text/plain": [
       "<Figure size 1440x360 with 5 Axes>"
      ]
     },
     "metadata": {
      "needs_background": "light"
     },
     "output_type": "display_data"
    }
   ],
   "source": [
    "dataGen= ImageDataGenerator(width_shift_range=0.1,   # 0.1 = 10%     IF MORE THAN 1 E.G 10 THEN IT REFFERS TO NO. OF  PIXELS EG 10 PIXELS\n",
    "                            height_shift_range=0.1,\n",
    "                            zoom_range=0.2,  # 0.2 MEANS CAN GO FROM 0.8 TO 1.2\n",
    "                            shear_range=0.1,  # MAGNITUDE OF SHEAR ANGLE\n",
    "                            rotation_range=10)  # DEGREES\n",
    "dataGen.fit(X_train_reshape)\n",
    "batches= dataGen.flow(X_train_reshape,y_train,batch_size=20)  # REQUESTING DATA GENRATOR TO GENERATE IMAGES  BATCH SIZE = NO. OF IMAGES CREATED EACH TIME ITS CALLED\n",
    "X_batch,y_batch = next(batches)\n",
    "# TO SHOW AUGUMENTED IMAGE SAMPLES\n",
    "fig,axs=plt.subplots(1,5,figsize=(20,5))\n",
    "fig.tight_layout()\n",
    "for i in range(5):\n",
    "    axs[i].imshow(X_batch[i].reshape(32,32))\n",
    "    axs[i].axis('off')\n",
    "plt.show()\n",
    " "
   ]
  },
  {
   "cell_type": "code",
   "execution_count": 49,
   "id": "bdae9797-bf6b-4678-8d7b-c6e93b88e7ce",
   "metadata": {},
   "outputs": [
    {
     "name": "stdout",
     "output_type": "stream",
     "text": [
      "*************Shape Details******************\n",
      "y_train_categorical shape--------- (31367, 43)\n",
      "y_test_categorical shape---------- (7842, 43)\n",
      "y_validation_categorical shape---- (7842, 43)\n",
      "********************************************\n"
     ]
    }
   ],
   "source": [
    "#One hot encoding(categorical)\n",
    "y_train_categorical = to_categorical(y_train, classes)\n",
    "y_test_categorical = to_categorical(y_test, classes)\n",
    "y_validation_categorical = to_categorical(y_validation, classes)\n",
    "print('*************Shape Details******************')\n",
    "print(\"y_train_categorical shape---------\", y_train_categorical.shape)\n",
    "print(\"y_test_categorical shape----------\", y_test_categorical.shape)\n",
    "print(\"y_validation_categorical shape----\", y_validation_categorical.shape)\n",
    "print(\"********************************************\")"
   ]
  },
  {
   "cell_type": "code",
   "execution_count": 50,
   "id": "167129e3-24fd-4c6e-a3ea-dfa243f73ae7",
   "metadata": {},
   "outputs": [],
   "source": [
    "#Early stooping for preventing overfitting and underfitting\n",
    "early_stopping = tf.keras.callbacks.EarlyStopping(\n",
    "    min_delta=0.001, # minimium amount of change to count as an improvement\n",
    "    patience=3, # how many epochs to wait before stopping\n",
    "    restore_best_weights=True,\n",
    ")\n",
    "#print(\"Early stopping\", ear)"
   ]
  },
  {
   "cell_type": "code",
   "execution_count": 51,
   "id": "1cc2d322-adef-4300-93f0-9276245a517d",
   "metadata": {},
   "outputs": [],
   "source": [
    "#Sequential model\n",
    "def myModel():\n",
    "    model = Sequential()\n",
    "    model.add(Conv2D(filters = 60, kernel_size = (5,5), activation = 'relu', input_shape = (32,32,1)))\n",
    "    model.add(Conv2D(filters = 60, kernel_size = (5,5), activation = 'relu'))\n",
    "    model.add(MaxPool2D(pool_size = (2,2)))\n",
    "    model.add(Dropout(rate = 0.25))\n",
    "    model.add(BatchNormalization())\n",
    "    model.add(Conv2D(filters = 60//2, kernel_size = (3,3), activation = 'relu'))\n",
    "    model.add(Conv2D(filters = 60//2, kernel_size = (3,3), activation = 'relu'))\n",
    "    model.add(MaxPool2D(pool_size=(2,2)))\n",
    "    model.add(Dropout(rate = 0.5))\n",
    "    model.add(BatchNormalization())\n",
    "    model.add(Flatten())\n",
    "    model.add(Dense(500, activation='relu'))\n",
    "    model.add(Dropout(rate = 0.5))\n",
    "    model.add(Dense(classes, activation = 'softmax'))\n",
    "    model.compile (loss = 'categorical_crossentropy', optimizer = 'adam', metrics = ['accuracy'])\n",
    "    return model\n"
   ]
  },
  {
   "cell_type": "code",
   "execution_count": 6,
   "id": "ec89ad3a-f655-49eb-9e54-89fe9849e863",
   "metadata": {},
   "outputs": [],
   "source": [
    "%reload_ext tensorboard\n",
    "log_folder = '/home/vijay/Fedora/Music/dash/log'"
   ]
  },
  {
   "cell_type": "code",
   "execution_count": 54,
   "id": "0828a3de-b5a7-4ede-acc3-2b003e23cb62",
   "metadata": {},
   "outputs": [],
   "source": [
    "callbacks = [TensorBoard(log_dir=log_folder,\n",
    "                         histogram_freq=1,\n",
    "                         write_graph=True,\n",
    "                         write_images=True,\n",
    "                         update_freq='epoch',\n",
    "                         profile_batch=2,\n",
    "                         embeddings_freq=1)]"
   ]
  },
  {
   "cell_type": "code",
   "execution_count": 55,
   "id": "4ed003da-5307-459b-8768-dcada1b3e58a",
   "metadata": {},
   "outputs": [
    {
     "name": "stdout",
     "output_type": "stream",
     "text": [
      "Model: \"sequential_1\"\n",
      "_________________________________________________________________\n",
      "Layer (type)                 Output Shape              Param #   \n",
      "=================================================================\n",
      "conv2d_4 (Conv2D)            (None, 28, 28, 60)        1560      \n",
      "_________________________________________________________________\n",
      "conv2d_5 (Conv2D)            (None, 24, 24, 60)        90060     \n",
      "_________________________________________________________________\n",
      "max_pooling2d_2 (MaxPooling2 (None, 12, 12, 60)        0         \n",
      "_________________________________________________________________\n",
      "dropout_3 (Dropout)          (None, 12, 12, 60)        0         \n",
      "_________________________________________________________________\n",
      "batch_normalization_2 (Batch (None, 12, 12, 60)        240       \n",
      "_________________________________________________________________\n",
      "conv2d_6 (Conv2D)            (None, 10, 10, 30)        16230     \n",
      "_________________________________________________________________\n",
      "conv2d_7 (Conv2D)            (None, 8, 8, 30)          8130      \n",
      "_________________________________________________________________\n",
      "max_pooling2d_3 (MaxPooling2 (None, 4, 4, 30)          0         \n",
      "_________________________________________________________________\n",
      "dropout_4 (Dropout)          (None, 4, 4, 30)          0         \n",
      "_________________________________________________________________\n",
      "batch_normalization_3 (Batch (None, 4, 4, 30)          120       \n",
      "_________________________________________________________________\n",
      "flatten_1 (Flatten)          (None, 480)               0         \n",
      "_________________________________________________________________\n",
      "dense_2 (Dense)              (None, 500)               240500    \n",
      "_________________________________________________________________\n",
      "dropout_5 (Dropout)          (None, 500)               0         \n",
      "_________________________________________________________________\n",
      "dense_3 (Dense)              (None, 43)                21543     \n",
      "=================================================================\n",
      "Total params: 378,383\n",
      "Trainable params: 378,203\n",
      "Non-trainable params: 180\n",
      "_________________________________________________________________\n",
      "None\n"
     ]
    }
   ],
   "source": [
    "model = myModel()\n",
    "print(model.summary())"
   ]
  },
  {
   "cell_type": "markdown",
   "id": "4b990244-9701-4922-b435-7d69e16d0b46",
   "metadata": {},
   "source": [
    "#Compile\n",
    "model.compile (loss = 'categorical_crossentropy', optimizer = 'adam', metrics = ['accuracy'])\n",
    "print(\"****************Compile Done********************\")"
   ]
  },
  {
   "cell_type": "code",
   "execution_count": 58,
   "id": "b228bad0-84d9-46c5-a1c6-edadb2be5b65",
   "metadata": {},
   "outputs": [
    {
     "name": "stdout",
     "output_type": "stream",
     "text": [
      "Epoch 1/20\n",
      "981/981 [==============================] - 200s 203ms/step - loss: 3.2281 - accuracy: 0.1875 - val_loss: 0.6022 - val_accuracy: 0.8559\n",
      "Epoch 2/20\n",
      "981/981 [==============================] - 215s 219ms/step - loss: 1.1313 - accuracy: 0.6532 - val_loss: 0.1987 - val_accuracy: 0.9370\n",
      "Epoch 3/20\n",
      "981/981 [==============================] - 225s 230ms/step - loss: 0.6755 - accuracy: 0.7929 - val_loss: 0.1312 - val_accuracy: 0.9642\n",
      "Epoch 4/20\n",
      "981/981 [==============================] - 221s 225ms/step - loss: 0.5088 - accuracy: 0.8436 - val_loss: 0.0739 - val_accuracy: 0.9788\n",
      "Epoch 5/20\n",
      "981/981 [==============================] - 225s 229ms/step - loss: 0.4385 - accuracy: 0.8628 - val_loss: 0.0956 - val_accuracy: 0.9700\n",
      "Epoch 6/20\n",
      "981/981 [==============================] - 223s 227ms/step - loss: 0.3752 - accuracy: 0.8829 - val_loss: 0.0604 - val_accuracy: 0.9852\n",
      "Epoch 7/20\n",
      "981/981 [==============================] - 225s 229ms/step - loss: 0.3318 - accuracy: 0.8960 - val_loss: 0.0531 - val_accuracy: 0.9864\n",
      "Epoch 8/20\n",
      "981/981 [==============================] - 232s 237ms/step - loss: 0.3144 - accuracy: 0.9037 - val_loss: 0.0465 - val_accuracy: 0.9846\n",
      "Epoch 9/20\n",
      "981/981 [==============================] - 233s 237ms/step - loss: 0.3030 - accuracy: 0.9060 - val_loss: 0.0369 - val_accuracy: 0.9895\n",
      "Epoch 10/20\n",
      "981/981 [==============================] - 221s 226ms/step - loss: 0.2636 - accuracy: 0.9200 - val_loss: 0.0371 - val_accuracy: 0.9902\n",
      "Epoch 11/20\n",
      "981/981 [==============================] - 231s 235ms/step - loss: 0.2603 - accuracy: 0.9186 - val_loss: 0.0382 - val_accuracy: 0.9888\n",
      "Epoch 12/20\n",
      "981/981 [==============================] - 225s 229ms/step - loss: 0.2547 - accuracy: 0.9207 - val_loss: 0.0279 - val_accuracy: 0.9911\n",
      "Epoch 13/20\n",
      "981/981 [==============================] - 229s 234ms/step - loss: 0.2313 - accuracy: 0.9289 - val_loss: 0.0339 - val_accuracy: 0.9898\n",
      "Epoch 14/20\n",
      "981/981 [==============================] - 222s 227ms/step - loss: 0.2212 - accuracy: 0.9342 - val_loss: 0.0245 - val_accuracy: 0.9927\n",
      "Epoch 15/20\n",
      "981/981 [==============================] - 230s 234ms/step - loss: 0.2104 - accuracy: 0.9353 - val_loss: 0.0270 - val_accuracy: 0.9932\n",
      "Epoch 16/20\n",
      "981/981 [==============================] - 221s 226ms/step - loss: 0.2077 - accuracy: 0.9364 - val_loss: 0.0219 - val_accuracy: 0.9923\n",
      "Epoch 17/20\n",
      "981/981 [==============================] - 222s 226ms/step - loss: 0.1998 - accuracy: 0.9390 - val_loss: 0.0261 - val_accuracy: 0.9920\n",
      "Epoch 18/20\n",
      "981/981 [==============================] - 215s 218ms/step - loss: 0.1885 - accuracy: 0.9433 - val_loss: 0.0182 - val_accuracy: 0.9944\n",
      "Epoch 19/20\n",
      "981/981 [==============================] - 230s 234ms/step - loss: 0.1832 - accuracy: 0.9441 - val_loss: 0.0458 - val_accuracy: 0.9869\n",
      "Epoch 20/20\n",
      "981/981 [==============================] - 232s 237ms/step - loss: 0.1949 - accuracy: 0.9398 - val_loss: 0.0203 - val_accuracy: 0.9939\n"
     ]
    }
   ],
   "source": [
    "history = model.fit(dataGen.flow(X_train_reshape, y_train_categorical, batch_size= 32),\n",
    "                    epochs= 20,\n",
    "                    validation_data=(X_validation_reshape, y_validation_categorical),\n",
    "                    callbacks=[callbacks,early_stopping],\n",
    "                    shuffle =1)"
   ]
  },
  {
   "cell_type": "code",
   "execution_count": 7,
   "id": "f18ee45f-4528-44fa-b562-7df8cabbf2bd",
   "metadata": {},
   "outputs": [
    {
     "data": {
      "text/html": [
       "\n",
       "      <iframe id=\"tensorboard-frame-fc4c640e72015b05\" width=\"100%\" height=\"800\" frameborder=\"0\">\n",
       "      </iframe>\n",
       "      <script>\n",
       "        (function() {\n",
       "          const frame = document.getElementById(\"tensorboard-frame-fc4c640e72015b05\");\n",
       "          const url = new URL(\"/\", window.location);\n",
       "          const port = 6006;\n",
       "          if (port) {\n",
       "            url.port = port;\n",
       "          }\n",
       "          frame.src = url;\n",
       "        })();\n",
       "      </script>\n",
       "    "
      ],
      "text/plain": [
       "<IPython.core.display.HTML object>"
      ]
     },
     "metadata": {},
     "output_type": "display_data"
    }
   ],
   "source": [
    "%tensorboard --logdir logs"
   ]
  },
  {
   "cell_type": "markdown",
   "id": "03ff40cb-4d49-4896-86cb-aed8dc6d4ad1",
   "metadata": {},
   "source": [
    "#Fitting model with augumentation\n",
    "history=model.fit(dataGen.flow(X_train_reshape,y_train_categorical,batch_size=32),\n",
    "                            epochs=30,\n",
    "                            validation_data=(X_validation_reshape,y_validation_categorical),\n",
    "                            callbacks=[early_stopping],\n",
    "                            shuffle=1)\n",
    "print(\"*****************Training Done******************\")"
   ]
  },
  {
   "cell_type": "code",
   "execution_count": 60,
   "id": "c9b085d7-3f81-4f43-9baf-813e5c2d3818",
   "metadata": {},
   "outputs": [
    {
     "name": "stdout",
     "output_type": "stream",
     "text": [
      "************Model Saved***************\n",
      "Model: \"sequential_1\"\n",
      "_________________________________________________________________\n",
      "Layer (type)                 Output Shape              Param #   \n",
      "=================================================================\n",
      "conv2d_4 (Conv2D)            (None, 28, 28, 60)        1560      \n",
      "_________________________________________________________________\n",
      "conv2d_5 (Conv2D)            (None, 24, 24, 60)        90060     \n",
      "_________________________________________________________________\n",
      "max_pooling2d_2 (MaxPooling2 (None, 12, 12, 60)        0         \n",
      "_________________________________________________________________\n",
      "dropout_3 (Dropout)          (None, 12, 12, 60)        0         \n",
      "_________________________________________________________________\n",
      "batch_normalization_2 (Batch (None, 12, 12, 60)        240       \n",
      "_________________________________________________________________\n",
      "conv2d_6 (Conv2D)            (None, 10, 10, 30)        16230     \n",
      "_________________________________________________________________\n",
      "conv2d_7 (Conv2D)            (None, 8, 8, 30)          8130      \n",
      "_________________________________________________________________\n",
      "max_pooling2d_3 (MaxPooling2 (None, 4, 4, 30)          0         \n",
      "_________________________________________________________________\n",
      "dropout_4 (Dropout)          (None, 4, 4, 30)          0         \n",
      "_________________________________________________________________\n",
      "batch_normalization_3 (Batch (None, 4, 4, 30)          120       \n",
      "_________________________________________________________________\n",
      "flatten_1 (Flatten)          (None, 480)               0         \n",
      "_________________________________________________________________\n",
      "dense_2 (Dense)              (None, 500)               240500    \n",
      "_________________________________________________________________\n",
      "dropout_5 (Dropout)          (None, 500)               0         \n",
      "_________________________________________________________________\n",
      "dense_3 (Dense)              (None, 43)                21543     \n",
      "=================================================================\n",
      "Total params: 378,383\n",
      "Trainable params: 378,203\n",
      "Non-trainable params: 180\n",
      "_________________________________________________________________\n"
     ]
    }
   ],
   "source": [
    "#Save model\n",
    "#pickle_out = open(\"model_trained_jul.p\",\"wb\")\n",
    "#pickle.dump(model, pickle_out)\n",
    "#pickle.out.close()\n",
    "\n",
    "model.save('./sample/traffic_jul_1.h5')\n",
    "print(\"************Model Saved***************\")\n",
    "model.summary()"
   ]
  },
  {
   "cell_type": "code",
   "execution_count": null,
   "id": "6f566d8f-cf60-4a90-888f-ac0dcb4a55a5",
   "metadata": {},
   "outputs": [],
   "source": []
  },
  {
   "cell_type": "code",
   "execution_count": 61,
   "id": "6223bb6b-a3e7-4006-b30d-cb2c9d859e21",
   "metadata": {},
   "outputs": [
    {
     "data": {
      "image/png": "[encoded data removed]",
      "text/plain": [
       "<Figure size 432x288 with 1 Axes>"
      ]
     },
     "metadata": {
      "needs_background": "light"
     },
     "output_type": "display_data"
    }
   ],
   "source": [
    "#Plot of training\n",
    "plt.figure(0)\n",
    "plt.plot(history.history['accuracy'], label = 'training accuracy')\n",
    "plt.plot(history.history['val_accuracy'], label = 'val accuracy')\n",
    "plt.plot(history.history['loss'], label='training loss')\n",
    "plt.plot(history.history['val_loss'], label = 'val loss')\n",
    "plt.title('Training plot')\n",
    "plt.xlabel('epochs')\n",
    "plt.ylabel('accuracy')\n",
    "plt.legend()\n",
    "plt.show()\n"
   ]
  },
  {
   "cell_type": "code",
   "execution_count": null,
   "id": "a01e4525-519d-47b2-8fe5-8a3bd3356470",
   "metadata": {},
   "outputs": [],
   "source": []
  },
  {
   "cell_type": "code",
   "execution_count": 62,
   "id": "4b7894db-fb5f-4053-8895-3dd883ac8ee2",
   "metadata": {},
   "outputs": [
    {
     "name": "stdout",
     "output_type": "stream",
     "text": [
      "246/246 - 4s - loss: 0.0203 - accuracy: 0.9939\n",
      "Training Accuracy-----93.81%\n",
      "***********Report***************\n",
      "Accuracy reported----- 99.4 %\n",
      "Loss reported--------- 0.02\n"
     ]
    }
   ],
   "source": [
    "#Score prediction for test data\n",
    "score = model.evaluate(X_test_reshape,y_test_categorical,verbose=2)\n",
    "print(\"Training Accuracy-----93.81%\")\n",
    "print(\"***********Report***************\")\n",
    "print(\"Accuracy reported-----\", round(score[1], 3)*100,\"%\")\n",
    "print(\"Loss reported---------\", round(score[0],3))"
   ]
  },
  {
   "cell_type": "code",
   "execution_count": 63,
   "id": "bf0d2f0b-67e9-4e40-b69c-d0aa3d9aafc7",
   "metadata": {},
   "outputs": [],
   "source": [
    "import numpy as np\n",
    "import pandas as pd\n",
    "import cv2\n",
    "from PIL import*\n",
    "def testing(testcsv):\n",
    "    df = pd.read_csv(testcsv)\n",
    "    label = df['ClassId'].values\n",
    "    imgs = df['Path'].values\n",
    "    raw = []\n",
    "    for img in imgs:\n",
    "        image = Image.open(img)\n",
    "        #image = image.resize((30,30))\n",
    "        image = image.convert('L')\n",
    "        image = image.resize((32,32))\n",
    "        image = np.array(image)\n",
    "        image = cv2.equalizeHist(image)\n",
    "        raw.append(np.array(image))\n",
    "    processed_image_array = np.array(raw)\n",
    "    processed_image_array = processed_image_array.reshape(processed_image_array.shape[0],processed_image_array.shape[1],processed_image_array.shape[2],1)\n",
    "    return processed_image_array, label"
   ]
  },
  {
   "cell_type": "code",
   "execution_count": 64,
   "id": "1eb48209-6ef5-4cb0-827b-7cb02d924aeb",
   "metadata": {},
   "outputs": [],
   "source": [
    "processed_image_array, label = testing(\"Test.csv\")"
   ]
  },
  {
   "cell_type": "code",
   "execution_count": 65,
   "id": "aeb99384-4246-400c-9fd7-867293e4e86a",
   "metadata": {},
   "outputs": [],
   "source": [
    "#Prediction demonstration\n",
    "import tensorflow as tf\n",
    "probability_model = tf.keras.Sequential([model, tf.keras.layers.Softmax()])"
   ]
  },
  {
   "cell_type": "code",
   "execution_count": 66,
   "id": "593918dd-0adb-4583-a422-03f7076fee13",
   "metadata": {},
   "outputs": [],
   "source": [
    "#prediction for test folders\n",
    "predictions = probability_model.predict(processed_image_array)"
   ]
  },
  {
   "cell_type": "code",
   "execution_count": 69,
   "id": "0b117fc6-7c1f-4033-921c-c8b44c9b1b81",
   "metadata": {},
   "outputs": [
    {
     "name": "stdout",
     "output_type": "stream",
     "text": [
      "***********Prediction made for first image in test folder****************\n",
      "[0.02236222 0.02236222 0.02236222 0.02236222 0.02236222 0.02236222\n",
      " 0.02236222 0.02236222 0.02236222 0.06078681 0.02236222 0.02236222\n",
      " 0.02236222 0.02236222 0.02236222 0.02236222 0.02236222 0.02236222\n",
      " 0.02236222 0.02236222 0.02236222 0.02236222 0.02236222 0.02236222\n",
      " 0.02236222 0.02236222 0.02236222 0.02236222 0.02236222 0.02236222\n",
      " 0.02236222 0.02236222 0.02236222 0.02236222 0.02236222 0.02236222\n",
      " 0.02236222 0.02236222 0.02236222 0.02236222 0.02236222 0.02236222\n",
      " 0.02236222]\n",
      "********************Array genearted**************************************\n"
     ]
    }
   ],
   "source": [
    "#prediction  array for first image\n",
    "print(\"***********Prediction made for first image in test folder****************\")\n",
    "print(predictions[98])\n",
    "print(\"********************Array genearted**************************************\")"
   ]
  },
  {
   "cell_type": "code",
   "execution_count": 71,
   "id": "38946165-a861-4d71-8cce-506fc5ada3e6",
   "metadata": {},
   "outputs": [
    {
     "name": "stdout",
     "output_type": "stream",
     "text": [
      "*********************Predicted class of the image******************\n",
      "Predicted Class of the image: 9\n",
      "----------------------------xxxxx----------------------------------\n",
      "*********************Actual class of the image was*****************\n",
      "Actual class of the image 9\n",
      "-----------------------------xxxxx---------------------------------\n"
     ]
    }
   ],
   "source": [
    "#prediction of label for first image\n",
    "print(\"*********************Predicted class of the image******************\")\n",
    "print(\"Predicted Class of the image:\", np.argmax(predictions[98]))\n",
    "print(\"----------------------------xxxxx----------------------------------\")\n",
    "#cross verifying with label already given.\n",
    "print(\"*********************Actual class of the image was*****************\")\n",
    "print(\"Actual class of the image\", label[98])\n",
    "print(\"-----------------------------xxxxx---------------------------------\")"
   ]
  },
  {
   "cell_type": "code",
   "execution_count": 5,
   "id": "3d2470ca-7497-436f-a697-98f878ecec95",
   "metadata": {},
   "outputs": [],
   "source": [
    "import pandas as pd\n",
    "testcsv='/home/vijay/Fedora/Documents/366pi_project/archive/Test.csv'\n",
    "df = pd.read_csv(testcsv)\n",
    "df_label= df['ClassId'].values\n",
    "df_imgs = df['Path'].values\n",
    "\n",
    "def image_num(n):\n",
    "    img = r'/home/vijay/Fedora/Documents/366pi_project/archive/'+df_imgs[n]\n",
    "    return img"
   ]
  },
  {
   "cell_type": "code",
   "execution_count": 6,
   "id": "15021a44-b58e-4d4b-91a3-e26bebbe4e2a",
   "metadata": {},
   "outputs": [],
   "source": [
    "from keras.models import load_model\n",
    "from PIL import Image\n",
    "import matplotlib.pyplot as plt\n",
    "import numpy as np\n",
    "from PIL import Image\n",
    "import cv2\n",
    "model = load_model('/home/vijay/Fedora/Documents/366pi_project/archive/sample/traffic_jul_1.h5')\n",
    "def final_predict(img,n):\n",
    "    # Name extracted from https://en.wikipedia.org/wiki/Road_signs_in_Germany\n",
    "    name = {\n",
    "    0:'Speed limit (20km/h)',\n",
    "    1:'Speed limit (30km/h)', \n",
    "    2:'Speed limit (50km/h)', \n",
    "    3:'Speed limit (60km/h)', \n",
    "    4:'Speed limit (70km/h)', \n",
    "    5:'Speed limit (80km/h)', \n",
    "    6:'End of speed limit (80km/h)', \n",
    "    7:'Speed limit (100km/h)', \n",
    "    8:'Speed limit (120km/h)', \n",
    "    9:'No Passing (for any vehicle type)', \n",
    "    10:'No passing veh over 3.5 tons', \n",
    "    11:'Priority to through-traffic at the next intersection/crossroads only', \n",
    "    12:'Priority road', \n",
    "    13:'Yield to cross traffic', \n",
    "    14:'Stop', \n",
    "    15:'No vehicles of any kind permitted', \n",
    "    16:'Veh > 3.5 tons prohibited', \n",
    "    17:'Do Not Enter', \n",
    "    18:'General caution', \n",
    "    19:'Dangerous curve to the left', \n",
    "    20:'Dangerous curve to the right', \n",
    "    21:'Double curves, first to left (Slow & stay to the right)', \n",
    "    22:'Bumpy road', \n",
    "    23:'Slippery road', \n",
    "    24:'Road narrows on the right', \n",
    "    25:'Construction area', \n",
    "    26:'Traffic signals', \n",
    "    27:'Pedestrians crossing', \n",
    "    28:'Children crossing', \n",
    "    29:'Bicycles crossing', \n",
    "    30:'Beware of ice/snow',\n",
    "    31:'Wild animals possible', \n",
    "    32:'End speed + passing limits', \n",
    "    33:'Turn right ahead', \n",
    "    34:'Turn left ahead', \n",
    "    35:'Ahead only', \n",
    "    36:'Go straight or right', \n",
    "    37:'Go straight or left', \n",
    "    38:'Keep right of traffic barrier/divider', \n",
    "    39:'Keep left of traffic barrier/divider', \n",
    "    40:'Roundabout(Yield to traffic in circle, signal only on exit)', \n",
    "    41:'End of no passing', \n",
    "    42:'End no passing veh > 3.5 tons' }\n",
    "    raw=[]\n",
    "    image = Image.open(img)\n",
    "    gray = image.convert('L')\n",
    "    gray = gray.resize((32,32))\n",
    "    gray = np.array(gray)\n",
    "    gray = cv2.equalizeHist(gray)\n",
    "    raw.append(np.array(gray))\n",
    "    processed_image_array = np.array(raw)\n",
    "    processed_image_array = processed_image_array.reshape(processed_image_array.shape[0],processed_image_array.shape[1],processed_image_array.shape[2],1)\n",
    "    Y_pred = np.argmax(model.predict(processed_image_array), axis=-1)\n",
    "    print(\"Actual Traffic Sign : \",name[df_label[n]])\n",
    "    #print(\"Pricted Sign Class : \", Y_pred)\n",
    "    print(\"Predicted traffic sign is:\", name[Y_pred[0]])\n",
    "    plt.imshow(image)\n",
    "    plt.show()\n"
   ]
  },
  {
   "cell_type": "code",
   "execution_count": 9,
   "id": "fd33cd99-bc21-48a1-8d01-04a558a2bbac",
   "metadata": {},
   "outputs": [
    {
     "name": "stdout",
     "output_type": "stream",
     "text": [
      "Actual Traffic Sign :  Speed limit (30km/h)\n",
      "Predicted traffic sign is: Speed limit (30km/h)\n"
     ]
    },
    {
     "data": {
      "image/png": "[encoded data removed]",
      "text/plain": [
       "<Figure size 432x288 with 1 Axes>"
      ]
     },
     "metadata": {
      "needs_background": "light"
     },
     "output_type": "display_data"
    }
   ],
   "source": [
    "final_predict(image_num(10641),10641)"
   ]
  },
  {
   "cell_type": "code",
   "execution_count": 1,
   "id": "1d906841-4b49-45a7-b3ec-891172144391",
   "metadata": {},
   "outputs": [
    {
     "name": "stderr",
     "output_type": "stream",
     "text": [
      "/home/vijay/anaconda3/lib/python3.8/site-packages/keras/engine/sequential.py:450: UserWarning: `model.predict_classes()` is deprecated and will be removed after 2021-01-01. Please use instead:* `np.argmax(model.predict(x), axis=-1)`,   if your model does multi-class classification   (e.g. if it uses a `softmax` last-layer activation).* `(model.predict(x) > 0.5).astype(\"int32\")`,   if your model does binary classification   (e.g. if it uses a `sigmoid` last-layer activation).\n",
      "  warnings.warn('`model.predict_classes()` is deprecated and '\n"
     ]
    }
   ],
   "source": [
    "#!/usr/bin/env python3\n",
    "# -*- coding: utf-8 -*-\n",
    "\"\"\"\n",
    "Created on Thu Jul  1 10:55:14 2021\n",
    "\n",
    "@author: vijay\n",
    "\"\"\"\n",
    "\n",
    "import numpy as np\n",
    "import cv2\n",
    "from keras.models import load_model\n",
    "from PIL import Image\n",
    "import tensorflow as tf\n",
    "#from keras import Sequential, Softmax\n",
    "\n",
    "framewidth = 640\n",
    "frameheight = 480\n",
    "brightness = 180\n",
    "threshold = 0.70\n",
    "font =  cv2.FONT_HERSHEY_SIMPLEX\n",
    "\n",
    "cap= cv2.VideoCapture(0) # We can also use any camera here.\n",
    "cap.set(3,framewidth)\n",
    "cap.set(4,frameheight)\n",
    "model = load_model(\"/home/vijay/Documents/ubuntu/Fedora/Documents/366pi_project/archive/sample/traffic_jul_1.h5\")\n",
    "def preprocessing(img):\n",
    "    img = cv2.cvtColor(img, cv2.COLOR_BGR2GRAY)\n",
    "    img = cv2.equalizeHist(img)\n",
    "    img = img/255\n",
    "    return img\n",
    "def getClassName(classNo):\n",
    "    if classNo==0: return 'Speed limit (20km/h)',\n",
    "    elif classNo==1:return 'Speed limit (30km/h)', \n",
    "    elif classNo==2:return 'Speed limit (50km/h)', \n",
    "    elif classNo==3:return 'Speed limit (60km/h)', \n",
    "    elif classNo==4:return 'Speed limit (70km/h)', \n",
    "    elif classNo==5:return 'Speed limit (80km/h)', \n",
    "    elif classNo==6:return 'End of speed limit (80km/h)', \n",
    "    elif classNo==7:return 'Speed limit (100km/h)', \n",
    "    elif classNo==8:return 'Speed limit (120km/h)', \n",
    "    elif classNo==9:return 'No Passing (for any vehicle type)', \n",
    "    elif classNo==10:return 'No passing veh over 3.5 tons', \n",
    "    elif classNo==11:return 'Priority to through-traffic at the next intersection/crossroads only', \n",
    "    elif classNo==12:return 'Priority road', \n",
    "    elif classNo==13:return 'Yield to cross traffic', \n",
    "    elif classNo==14:return 'Stop', \n",
    "    elif classNo==15:return 'No vehicles of any kind permitted', \n",
    "    elif classNo==16:return 'Veh > 3.5 tons prohibited', \n",
    "    elif classNo==17:return 'Do Not Enter', \n",
    "    elif classNo==18:return 'General caution', \n",
    "    elif classNo==19:return 'Dangerous curve to the left', \n",
    "    elif classNo==20:return 'Dangerous curve to the right', \n",
    "    elif classNo==21:return 'Double curves, first to left (Slow & stay to the right)', \n",
    "    elif classNo==22:return 'Bumpy road', \n",
    "    elif classNo==23:return 'Slippery road', \n",
    "    elif classNo==24:return 'Road narrows on the right', \n",
    "    elif classNo==25:return 'Construction area', \n",
    "    elif classNo==26:return 'Traffic signals', \n",
    "    elif classNo==27:return 'Pedestrians crossing', \n",
    "    elif classNo==28:return 'Children crossing', \n",
    "    elif classNo==29:return 'Bicycles crossing', \n",
    "    elif classNo==30:return 'Beware of ice/snow',\n",
    "    elif classNo==31:return 'Wild animals possible', \n",
    "    elif classNo==32:return 'End speed + passing limits', \n",
    "    elif classNo==33:return 'Turn right ahead', \n",
    "    elif classNo==34:return 'Turn left ahead', \n",
    "    elif classNo==35:return 'Ahead only', \n",
    "    elif classNo==36:return 'Go straight or right', \n",
    "    elif classNo==37:return 'Go straight or left', \n",
    "    elif classNo==38:return 'Keep right of traffic barrier/divider', \n",
    "    elif classNo==39:return 'Keep left of traffic barrier/divider', \n",
    "    elif classNo==40:return 'Roundabout(Yield to traffic in circle, signal only on exit)', \n",
    "    elif classNo==41:return 'End of no passing', \n",
    "    elif classNo==42:return 'End no passing veh > 3.5 tons'\n",
    "while True:\n",
    "    success, imgoriginal = cap.read()\n",
    "    img = np.asarray(imgoriginal)\n",
    "    img = cv2.resize(img,(32,32))\n",
    "    img =  preprocessing(img)\n",
    "    cv2.imshow(\"Processed Image\", img)\n",
    "    img = img.reshape(1,32,32,1)\n",
    "    cv2.putText(imgoriginal,\"CLASS: \", (20,35), font, 0.75,(0,0,255),2,cv2.LINE_AA)\n",
    "    cv2.putText(imgoriginal,\"PROBABILITY:\", (20,75), font, 0.75,(255,0,0),2,cv2.LINE_AA)\n",
    "    #predict\n",
    "    classIndex = int(model.predict_classes(img))\n",
    "    #print(classIndex)\n",
    "    predictons = model.predict(img)\n",
    "    probability = np.amax(predictons)\n",
    "    #print(classIndex,probability)\n",
    "    if probability>threshold:\n",
    "        cv2.putText(imgoriginal, str(classIndex)+\" \"+str(getClassName(classIndex)), (120,35), font, 0.75,(0,0,255),2,cv2.LINE_AA)\n",
    "        cv2.putText(imgoriginal, str(round(probability*100,2))+\"%\",(180,75),font, 0.75, (255,0,0),2,cv2.LINE_AA)\n",
    "    cv2.imshow(\"Result\", imgoriginal)\n",
    "    if cv2.waitKey(1) & 0xFF == ord('q'):\n",
    "        break\n",
    "cap.release()\n",
    "cv2.destroyAllWindows()"
   ]
  },
  {
   "cell_type": "markdown",
   "id": "22f9377b",
   "metadata": {},
   "source": [
    "### Thank you for your valuable time "
   ]
  }
 ],
 "metadata": {
  "kernelspec": {
   "display_name": "Python 3",
   "language": "python",
   "name": "python3"
  },
  "language_info": {
   "codemirror_mode": {
    "name": "ipython",
    "version": 3
   },
   "file_extension": ".py",
   "mimetype": "text/x-python",
   "name": "python",
   "nbconvert_exporter": "python",
   "pygments_lexer": "ipython3",
   "version": "3.8.8"
  }
 },
 "nbformat": 4,
 "nbformat_minor": 5
}
